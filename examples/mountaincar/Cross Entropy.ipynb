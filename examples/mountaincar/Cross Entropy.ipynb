{
 "cells": [
  {
   "cell_type": "markdown",
   "id": "af606f14-0e72-440d-bb5f-a713e97f10ed",
   "metadata": {},
   "source": [
    "**Module Path**"
   ]
  },
  {
   "cell_type": "code",
   "execution_count": 1,
   "id": "43424233-dc69-4cb4-8db8-c7a3f318999e",
   "metadata": {},
   "outputs": [],
   "source": [
    "import os\n",
    "\n",
    "os.chdir(\"./../../\")"
   ]
  },
  {
   "cell_type": "markdown",
   "id": "2894f0ad-f81e-4163-bbb6-69910926e948",
   "metadata": {},
   "source": [
    "**Device**"
   ]
  },
  {
   "cell_type": "code",
   "execution_count": 2,
   "id": "fc8f7177-5357-4366-9f63-592230d59a6c",
   "metadata": {},
   "outputs": [],
   "source": [
    "from utils import get_device\n",
    "\n",
    "device = get_device()"
   ]
  },
  {
   "cell_type": "markdown",
   "id": "371670dc-e0f8-4f3b-a752-670dd614efec",
   "metadata": {},
   "source": [
    "# Cross Entropy Method\n",
    "\n",
    "---\n",
    "\n",
    "## Explore Mountain Car Continuous\n",
    "\n",
    "We begin by importing the necessary packages."
   ]
  },
  {
   "cell_type": "code",
   "execution_count": 3,
   "id": "908040d3-5a06-4d91-b77a-27476b84fe86",
   "metadata": {},
   "outputs": [
    {
     "data": {
      "text/plain": [
       "<contextlib.ExitStack at 0x105b89b10>"
      ]
     },
     "execution_count": 3,
     "metadata": {},
     "output_type": "execute_result"
    }
   ],
   "source": [
    "import numpy as np\n",
    "from pyvirtualdisplay import Display\n",
    "\n",
    "display = Display(visible=0, size=(1400, 900))\n",
    "display.start()\n",
    "\n",
    "import matplotlib.pyplot as plt\n",
    "\n",
    "# Set plotting options\n",
    "%matplotlib inline\n",
    "plt.style.use(\"ggplot\")\n",
    "np.set_printoptions(precision=3, linewidth=120)\n",
    "\n",
    "is_ipython = \"inline\" in plt.get_backend()\n",
    "if is_ipython:\n",
    "    from IPython import display\n",
    "\n",
    "plt.ion()"
   ]
  },
  {
   "cell_type": "code",
   "execution_count": 4,
   "id": "003ada81-9e78-402f-8fa6-b4785861f74f",
   "metadata": {},
   "outputs": [],
   "source": [
    "from env import Gym\n",
    "from policy import RandomPolicy"
   ]
  },
  {
   "cell_type": "markdown",
   "id": "18842fcb-d8f6-419b-8da7-8673cef4ae35",
   "metadata": {},
   "source": [
    "Use the code cell below to create an instance of the [MountainCarContinuous](https://github.com/openai/gym/blob/master/gym/envs/classic_control/continuous_mountain_car.py) environment."
   ]
  },
  {
   "cell_type": "code",
   "execution_count": 5,
   "id": "e2eea387-b37d-47f4-8a01-344f156ffe8f",
   "metadata": {},
   "outputs": [],
   "source": [
    "seed = 101\n",
    "np.random.seed(seed)\n",
    "\n",
    "env = Gym(\"mountaincarcontinuous\")"
   ]
  },
  {
   "cell_type": "markdown",
   "id": "7b851ef9-247a-4356-aa79-26c62b59dc1e",
   "metadata": {},
   "source": [
    "Let's watch a random agent dealing with the environment"
   ]
  },
  {
   "cell_type": "code",
   "execution_count": 6,
   "id": "626696f9-5521-4095-88ef-a428916eafde",
   "metadata": {},
   "outputs": [
    {
     "data": {
      "image/png": "[encoded data removed]",
      "text/plain": [
       "<Figure size 640x480 with 1 Axes>"
      ]
     },
     "metadata": {},
     "output_type": "display_data"
    }
   ],
   "source": [
    "env.watch(RandomPolicy(env.get_action_space()), display, steps=100)"
   ]
  },
  {
   "cell_type": "code",
   "execution_count": 7,
   "id": "5fd394ce-a814-44d9-96a3-34dc3bf523bc",
   "metadata": {},
   "outputs": [
    {
     "name": "stdout",
     "output_type": "stream",
     "text": [
      "Box([-1.2  -0.07], [0.6  0.07], (2,), float32)\n",
      "Box(-1.0, 1.0, (1,), float32)\n"
     ]
    }
   ],
   "source": [
    "print(env.get_observation_space())\n",
    "print(env.get_action_space())"
   ]
  },
  {
   "cell_type": "code",
   "execution_count": 8,
   "id": "f28190a5-46ed-44d7-bdec-f9b8e536f2dc",
   "metadata": {},
   "outputs": [],
   "source": [
    "from policy import CrossEntropyPolicy\n",
    "\n",
    "action_size = len(env.get_action_space().sample())\n",
    "state_size = len(env.get_observation_space().sample())\n",
    "hidden_layer_size = 16\n",
    "\n",
    "policy = CrossEntropyPolicy(\n",
    "    s_size=state_size, a_size=action_size, h_size=hidden_layer_size, device=device\n",
    ").to(device)"
   ]
  },
  {
   "cell_type": "markdown",
   "id": "dcb1074a-a4ff-4cc5-88fc-4f1536e56c5e",
   "metadata": {},
   "source": [
    "## Train"
   ]
  },
  {
   "cell_type": "code",
   "execution_count": 9,
   "id": "da0c3a4d-4381-4230-9afa-c270a20ae3fe",
   "metadata": {},
   "outputs": [],
   "source": [
    "from train import CrossEntropyTrainer\n",
    "\n",
    "max_steps_per_episode = 1000\n",
    "gamma = 0.99\n",
    "pop_size = 50\n",
    "elite_frac = 0.2\n",
    "sigma = 0.5\n",
    "print_every = 10\n",
    "target_score = 90.0\n",
    "n_episodes = 500\n",
    "\n",
    "trainer = CrossEntropyTrainer(\n",
    "    policy,\n",
    "    env,\n",
    "    max_steps_per_episode=max_steps_per_episode,\n",
    "    gamma=gamma,\n",
    "    pop_size=pop_size,\n",
    "    elite_frac=elite_frac,\n",
    "    sigma=sigma,\n",
    "    print_every=print_every,\n",
    "    target_score=target_score,\n",
    "    device=device,\n",
    ")"
   ]
  },
  {
   "cell_type": "code",
   "execution_count": 9,
   "id": "556178c2-ed56-4402-b614-674a81b24ca5",
   "metadata": {},
   "outputs": [
    {
     "name": "stdout",
     "output_type": "stream",
     "text": [
      "Episode 10\tAverage Score: -7.77\n",
      "Episode 20\tAverage Score: -7.47\n",
      "Episode 30\tAverage Score: -5.98\n",
      "Episode 40\tAverage Score: -5.87\n",
      "Episode 50\tAverage Score: -5.47\n",
      "Episode 60\tAverage Score: -4.71\n",
      "Episode 70\tAverage Score: -4.14\n",
      "Episode 80\tAverage Score: -3.93\n",
      "Episode 90\tAverage Score: -3.72\n",
      "Episode 100\tAverage Score: -3.41\n",
      "Episode 110\tAverage Score: -2.82\n",
      "Episode 120\tAverage Score: -2.27\n",
      "Episode 130\tAverage Score: -2.08\n",
      "Episode 140\tAverage Score: -1.72\n",
      "Episode 150\tAverage Score: -1.38\n",
      "Episode 160\tAverage Score: -1.39\n",
      "Episode 170\tAverage Score: -1.40\n",
      "Episode 180\tAverage Score: -1.23\n",
      "Episode 190\tAverage Score: -1.13\n",
      "Episode 200\tAverage Score: -1.22\n",
      "Episode 210\tAverage Score: -1.08\n",
      "Episode 220\tAverage Score: -1.07\n",
      "Episode 230\tAverage Score: -1.07\n",
      "Episode 240\tAverage Score: -0.95\n",
      "Episode 250\tAverage Score: -0.92\n",
      "Episode 260\tAverage Score: -0.84\n",
      "Episode 270\tAverage Score: -0.77\n",
      "Episode 280\tAverage Score: 7.87\n",
      "Episode 290\tAverage Score: 17.30\n",
      "Episode 300\tAverage Score: 26.77\n",
      "Episode 310\tAverage Score: 36.11\n",
      "Episode 320\tAverage Score: 45.53\n",
      "Episode 330\tAverage Score: 54.89\n",
      "Episode 340\tAverage Score: 64.33\n",
      "Episode 350\tAverage Score: 73.74\n",
      "Episode 360\tAverage Score: 83.12\n",
      "Environment solved in 368 episodes!\tAverage Score: 90.70\n"
     ]
    }
   ],
   "source": [
    "scores = trainer.train(n_episodes)"
   ]
  },
  {
   "cell_type": "code",
   "execution_count": 11,
   "id": "5fb79a27-9ea4-42db-b16c-5612392663f3",
   "metadata": {},
   "outputs": [
    {
     "data": {
      "image/png": "[encoded data removed]",
      "text/plain": [
       "<Figure size 640x480 with 1 Axes>"
      ]
     },
     "metadata": {},
     "output_type": "display_data"
    }
   ],
   "source": [
    "# plot the scores\n",
    "fig = plt.figure()\n",
    "ax = fig.add_subplot(111)\n",
    "plt.plot(np.arange(len(scores)), scores)\n",
    "plt.ylabel(\"Score\")\n",
    "plt.xlabel(\"Episode #\")\n",
    "plt.show()"
   ]
  },
  {
   "cell_type": "markdown",
   "id": "6516b372-1397-4de9-80c5-9e7f4f6ee1d5",
   "metadata": {},
   "source": [
    "## Watch a Smart Agent!"
   ]
  },
  {
   "cell_type": "code",
   "execution_count": null,
   "id": "9ae8f27c-61b2-488d-b555-ec0175721b57",
   "metadata": {},
   "outputs": [],
   "source": [
    "trainer.evaluate(10)"
   ]
  },
  {
   "cell_type": "code",
   "execution_count": null,
   "id": "aac3c30a-0c24-48e9-be29-4f6ab7a19145",
   "metadata": {},
   "outputs": [],
   "source": [
    "env.watch(policy, display)"
   ]
  },
  {
   "cell_type": "markdown",
   "id": "b059f03c-0544-4d97-be74-53146399a228",
   "metadata": {},
   "source": [
    "## Save the Agent"
   ]
  },
  {
   "cell_type": "code",
   "execution_count": 10,
   "id": "70ef2ded-4b1b-4d7e-bd5e-9c49bf3b5030",
   "metadata": {},
   "outputs": [],
   "source": [
    "import torch\n",
    "\n",
    "# Define the path where you want to save the model\n",
    "model_path = \"./checkpoints/cross_entropy_policy_mountaincarcontinuous.pth\"\n",
    "\n",
    "# Save the model's state dictionary\n",
    "torch.save(policy.state_dict(), model_path)"
   ]
  },
  {
   "cell_type": "markdown",
   "id": "4fd94d67-203b-4dbd-bc5f-7b4710e48eb0",
   "metadata": {},
   "source": [
    "## Load the Agent"
   ]
  },
  {
   "cell_type": "code",
   "execution_count": 11,
   "id": "f4ff08b5-da15-4c56-b541-c2aa114c6d4a",
   "metadata": {},
   "outputs": [
    {
     "data": {
      "text/plain": [
       "<All keys matched successfully>"
      ]
     },
     "execution_count": 11,
     "metadata": {},
     "output_type": "execute_result"
    }
   ],
   "source": [
    "import torch\n",
    "\n",
    "model_path = \"./checkpoints/cross_entropy_policy_mountaincarcontinuous.pth\"\n",
    "\n",
    "# Load the saved state dictionary into the model\n",
    "policy.load_state_dict(torch.load(model_path, weights_only=True))"
   ]
  },
  {
   "cell_type": "markdown",
   "id": "4e21fe16-247b-4064-a49d-7fb38d78d4e3",
   "metadata": {},
   "source": [
    " "
   ]
  }
 ],
 "metadata": {
  "kernelspec": {
   "display_name": "Python 3 (ipykernel)",
   "language": "python",
   "name": "python3"
  },
  "language_info": {
   "codemirror_mode": {
    "name": "ipython",
    "version": 3
   },
   "file_extension": ".py",
   "mimetype": "text/x-python",
   "name": "python",
   "nbconvert_exporter": "python",
   "pygments_lexer": "ipython3",
   "version": "3.10.11"
  }
 },
 "nbformat": 4,
 "nbformat_minor": 5
}
