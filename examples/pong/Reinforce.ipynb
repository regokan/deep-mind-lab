{
 "cells": [
  {
   "cell_type": "markdown",
   "id": "af606f14-0e72-440d-bb5f-a713e97f10ed",
   "metadata": {},
   "source": [
    "**Module Path**"
   ]
  },
  {
   "cell_type": "code",
   "execution_count": 1,
   "id": "43424233-dc69-4cb4-8db8-c7a3f318999e",
   "metadata": {},
   "outputs": [],
   "source": [
    "import os\n",
    "\n",
    "os.chdir(\"./../../\")"
   ]
  },
  {
   "cell_type": "markdown",
   "id": "df34171f-24a8-421a-8409-636ca50c5022",
   "metadata": {},
   "source": [
    "**Device**"
   ]
  },
  {
   "cell_type": "code",
   "execution_count": 2,
   "id": "b33a857c-c307-4465-ae90-029c340508cf",
   "metadata": {},
   "outputs": [],
   "source": [
    "from utils import get_device\n",
    "from examples.pong.utils import preprocess, preprocess_batch\n",
    "\n",
    "device = get_device()"
   ]
  },
  {
   "cell_type": "markdown",
   "id": "371670dc-e0f8-4f3b-a752-670dd614efec",
   "metadata": {},
   "source": [
    "# Policy Gradient Method\n",
    "\n",
    "\n",
    "For estimating the gradient:\n",
    "\n",
    "$$\n",
    "\\nabla_{\\theta} J(\\theta) \\approx \\frac{1}{N} \\sum_{i=1}^{N} \\sum_{t=0}^{T} \\nabla_{\\theta} \\log \\pi_{\\theta} (a_{t}^{(i)} | s_{t}^{(i)}) R^{(i)}\n",
    "$$\n"
   ]
  },
  {
   "cell_type": "markdown",
   "id": "a88573cf-c213-4f70-93cb-5e2784a0c927",
   "metadata": {},
   "source": [
    "---\n",
    "\n",
    "## Explore Pong Deterministic\n",
    "\n",
    "We begin by importing the necessary packages."
   ]
  },
  {
   "cell_type": "code",
   "execution_count": 3,
   "id": "908040d3-5a06-4d91-b77a-27476b84fe86",
   "metadata": {},
   "outputs": [
    {
     "data": {
      "text/plain": [
       "<contextlib.ExitStack at 0x10b943e80>"
      ]
     },
     "execution_count": 3,
     "metadata": {},
     "output_type": "execute_result"
    }
   ],
   "source": [
    "import numpy as np\n",
    "from pyvirtualdisplay import Display\n",
    "\n",
    "display = Display(visible=0, size=(1400, 900))\n",
    "display.start()\n",
    "\n",
    "import matplotlib.pyplot as plt\n",
    "\n",
    "# Set plotting options\n",
    "%matplotlib inline\n",
    "plt.style.use(\"ggplot\")\n",
    "np.set_printoptions(precision=3, linewidth=120)\n",
    "\n",
    "is_ipython = \"inline\" in plt.get_backend()\n",
    "if is_ipython:\n",
    "    from IPython import display\n",
    "\n",
    "plt.ion()"
   ]
  },
  {
   "cell_type": "code",
   "execution_count": 4,
   "id": "003ada81-9e78-402f-8fa6-b4785861f74f",
   "metadata": {},
   "outputs": [],
   "source": [
    "from env import MultiFrameGym\n",
    "from policy import RandomPolicy"
   ]
  },
  {
   "cell_type": "markdown",
   "id": "18842fcb-d8f6-419b-8da7-8673cef4ae35",
   "metadata": {},
   "source": [
    "Use the code cell below to create an instance of the Pong environment."
   ]
  },
  {
   "cell_type": "code",
   "execution_count": 5,
   "id": "e2eea387-b37d-47f4-8a01-344f156ffe8f",
   "metadata": {},
   "outputs": [
    {
     "name": "stderr",
     "output_type": "stream",
     "text": [
      "A.L.E: Arcade Learning Environment (version 0.8.1+53f58b7)\n",
      "[Powered by Stella]\n"
     ]
    }
   ],
   "source": [
    "import torch\n",
    "\n",
    "seed = 0\n",
    "\n",
    "np.random.seed(seed)\n",
    "torch.manual_seed(seed)\n",
    "env = MultiFrameGym(\"pong\")"
   ]
  },
  {
   "cell_type": "markdown",
   "id": "7b851ef9-247a-4356-aa79-26c62b59dc1e",
   "metadata": {},
   "source": [
    "Let's watch a random agent dealing with the environment"
   ]
  },
  {
   "cell_type": "code",
   "execution_count": 6,
   "id": "5fd394ce-a814-44d9-96a3-34dc3bf523bc",
   "metadata": {},
   "outputs": [
    {
     "name": "stdout",
     "output_type": "stream",
     "text": [
      "Box(0, 255, (210, 160, 3), uint8)\n",
      "Discrete(6)\n"
     ]
    }
   ],
   "source": [
    "print(env.get_observation_space())\n",
    "print(env.get_action_space())"
   ]
  },
  {
   "cell_type": "code",
   "execution_count": 7,
   "id": "5b50fa84-4a51-4a7b-abf1-0960924ed92a",
   "metadata": {},
   "outputs": [
    {
     "data": {
      "text/plain": [
       "['NOOP', 'FIRE', 'RIGHT', 'LEFT', 'RIGHTFIRE', 'LEFTFIRE']"
      ]
     },
     "execution_count": 7,
     "metadata": {},
     "output_type": "execute_result"
    }
   ],
   "source": [
    "env.env.unwrapped.get_action_meanings()"
   ]
  },
  {
   "cell_type": "markdown",
   "id": "29c9898b-f762-4620-b65b-f5154d45b70b",
   "metadata": {},
   "source": [
    "We will only use the actions `RIGHTFIRE` = 4 and `LEFTFIRE` = 5, the `FIRE` part ensures that the game starts again after losing a life"
   ]
  },
  {
   "cell_type": "code",
   "execution_count": 8,
   "id": "41b2768e-4ae9-4892-82a4-cdc428f9ea88",
   "metadata": {},
   "outputs": [],
   "source": [
    "RIGHT = 4\n",
    "LEFT = 5"
   ]
  },
  {
   "cell_type": "code",
   "execution_count": 9,
   "id": "626696f9-5521-4095-88ef-a428916eafde",
   "metadata": {},
   "outputs": [
    {
     "data": {
      "image/png": "[encoded data removed]",
      "text/plain": [
       "<Figure size 640x480 with 1 Axes>"
      ]
     },
     "metadata": {},
     "output_type": "display_data"
    }
   ],
   "source": [
    "env.watch(\n",
    "    RandomPolicy(env.get_action_space()),\n",
    "    display,\n",
    "    steps=1000,\n",
    "    action1=RIGHT,\n",
    "    action2=LEFT,\n",
    "    preprocess_fn=preprocess_batch,\n",
    "    device=device,\n",
    ")"
   ]
  },
  {
   "cell_type": "markdown",
   "id": "864465da-b4c8-4938-9953-eefd5a296f05",
   "metadata": {},
   "source": [
    "## Preprocessing"
   ]
  },
  {
   "cell_type": "code",
   "execution_count": 10,
   "id": "1e30746d-132f-4665-ac99-1903fd4f6eb3",
   "metadata": {},
   "outputs": [
    {
     "data": {
      "image/png": "[encoded data removed]",
      "text/plain": [
       "<Figure size 640x480 with 2 Axes>"
      ]
     },
     "metadata": {},
     "output_type": "display_data"
    }
   ],
   "source": [
    "import matplotlib\n",
    "import matplotlib.pyplot as plt\n",
    "\n",
    "# show what a preprocessed image looks like\n",
    "state = env.reset()[0]\n",
    "# get a frame after 20 steps\n",
    "for _ in range(20):\n",
    "    frame, _, _, _, _ = env.step(1)\n",
    "\n",
    "plt.subplot(1, 2, 1)\n",
    "plt.imshow(frame)\n",
    "plt.title(\"original image\")\n",
    "\n",
    "plt.subplot(1, 2, 2)\n",
    "plt.title(\"preprocessed image\")\n",
    "\n",
    "# 80 x 80 black and white image\n",
    "preprocessed_frame = preprocess(frame)\n",
    "plt.imshow(preprocessed_frame, cmap=\"Greys\")\n",
    "plt.show()"
   ]
  },
  {
   "cell_type": "code",
   "execution_count": 11,
   "id": "67d972fa-5df2-4a8f-bcda-e6aa7f5730c8",
   "metadata": {},
   "outputs": [
    {
     "data": {
      "text/plain": [
       "((210, 160, 3), (80, 80))"
      ]
     },
     "execution_count": 11,
     "metadata": {},
     "output_type": "execute_result"
    }
   ],
   "source": [
    "frame.shape, preprocessed_frame.shape"
   ]
  },
  {
   "cell_type": "code",
   "execution_count": 12,
   "id": "4f619ae2-d384-4598-a923-6f07efa27bd6",
   "metadata": {},
   "outputs": [
    {
     "data": {
      "text/plain": [
       "(210, 160, 3)"
      ]
     },
     "execution_count": 12,
     "metadata": {},
     "output_type": "execute_result"
    }
   ],
   "source": [
    "env.reset()[0].shape"
   ]
  },
  {
   "cell_type": "markdown",
   "id": "6b763ff5-7a9d-414f-8e9f-909edc9022ce",
   "metadata": {},
   "source": [
    "## Model"
   ]
  },
  {
   "cell_type": "code",
   "execution_count": 13,
   "id": "a3ee5568-8ceb-4c0c-bb71-b5713ebd99c1",
   "metadata": {},
   "outputs": [],
   "source": [
    "from model import FCBody, Conv2DBody\n",
    "import torch.nn as nn\n",
    "\n",
    "in_channels = 2\n",
    "h_channels = 4\n",
    "out_channels = 16\n",
    "kernel_size = 6\n",
    "h_stride = 2\n",
    "a_stride = 4\n",
    "h_activation = nn.ReLU()\n",
    "a_activation = nn.ReLU()\n",
    "h_bias = False\n",
    "a_bias = True\n",
    "\n",
    "state_size = out_channels * 9 * 9\n",
    "hidden_size = 256\n",
    "action_size = 1\n",
    "\n",
    "\n",
    "class Model(nn.Module):\n",
    "    def __init__(self):\n",
    "        super().__init__()\n",
    "        # input 80x80x2\n",
    "        self.conv2dBody = Conv2DBody(\n",
    "            in_channels=in_channels,\n",
    "            h_channels=h_channels,\n",
    "            out_channels=out_channels,\n",
    "            kernel_size=kernel_size,\n",
    "            a_stride=a_stride,\n",
    "            h_stride=h_stride,\n",
    "            h_activation=h_activation,\n",
    "            a_activation=a_activation,\n",
    "            h_bias=h_bias,\n",
    "            a_bias=a_bias,\n",
    "        )\n",
    "        # input 9x9x16\n",
    "        self.fcBody = FCBody(\n",
    "            s_size=state_size,\n",
    "            a_size=action_size,\n",
    "            h_size=hidden_size,\n",
    "            h_activation=nn.ReLU(),\n",
    "            a_activation=nn.Sigmoid(),\n",
    "        )\n",
    "\n",
    "    def forward(self, state):\n",
    "        x = self.conv2dBody(state)\n",
    "        x = self.fcBody(x)\n",
    "        return x\n",
    "\n",
    "\n",
    "model = Model().to(device)"
   ]
  },
  {
   "cell_type": "markdown",
   "id": "368c1820-2e3d-481a-bcee-5cf884799b5d",
   "metadata": {},
   "source": [
    "## Rollout\n",
    "Before we start the training, we need to collect samples. To make things efficient we use parallelized environments to collect multiple examples at once"
   ]
  },
  {
   "cell_type": "code",
   "execution_count": 14,
   "id": "34a268bc-2506-4a37-adf0-7fd3db8ca008",
   "metadata": {},
   "outputs": [
    {
     "name": "stderr",
     "output_type": "stream",
     "text": [
      "A.L.E: Arcade Learning Environment (version 0.8.1+53f58b7)\n",
      "[Powered by Stella]\n",
      "A.L.E: Arcade Learning Environment (version 0.8.1+53f58b7)\n",
      "[Powered by Stella]\n",
      "A.L.E: Arcade Learning Environment (version 0.8.1+53f58b7)\n",
      "[Powered by Stella]\n",
      "A.L.E: Arcade Learning Environment (version 0.8.1+53f58b7)\n",
      "[Powered by Stella]\n"
     ]
    }
   ],
   "source": [
    "from env import ParallelGym\n",
    "\n",
    "parallelEnv = ParallelGym(name=\"pong\", n_envs=4)"
   ]
  },
  {
   "cell_type": "code",
   "execution_count": 15,
   "id": "f28190a5-46ed-44d7-bdec-f9b8e536f2dc",
   "metadata": {},
   "outputs": [],
   "source": [
    "from policy import ReinforceParallelPolicy\n",
    "\n",
    "policy = ReinforceParallelPolicy(model, device)"
   ]
  },
  {
   "cell_type": "markdown",
   "id": "dcb1074a-a4ff-4cc5-88fc-4f1536e56c5e",
   "metadata": {},
   "source": [
    "## Train"
   ]
  },
  {
   "cell_type": "code",
   "execution_count": 16,
   "id": "556178c2-ed56-4402-b614-674a81b24ca5",
   "metadata": {},
   "outputs": [],
   "source": [
    "import torch.optim as optim\n",
    "from train import ReinforceParallelTrainer\n",
    "from torch.optim.lr_scheduler import StepLR\n",
    "\n",
    "max_steps_per_episode = 320\n",
    "gamma = 0.99\n",
    "print_every = 100\n",
    "target_score = 10\n",
    "n_episodes = 5_000\n",
    "lr = 1e-4\n",
    "lr_decay = 0.99\n",
    "\n",
    "\n",
    "optimizer = optim.Adam(model.parameters(), lr=lr)\n",
    "scheduler = StepLR(optimizer, step_size=50, gamma=lr_decay)\n",
    "\n",
    "trainer = ReinforceParallelTrainer(\n",
    "    policy=policy,\n",
    "    environment=parallelEnv,\n",
    "    optimizer=optimizer,\n",
    "    scheduler=None,  # scheduler\n",
    "    max_steps_per_episode=max_steps_per_episode,\n",
    "    gamma=gamma,\n",
    "    target_score=target_score,\n",
    "    print_every=print_every,\n",
    "    preprocess_state_fn=preprocess_batch,\n",
    "    device=device,\n",
    ")"
   ]
  },
  {
   "cell_type": "code",
   "execution_count": 17,
   "id": "62ec2151-7810-4507-a957-ed95e87fe58f",
   "metadata": {},
   "outputs": [
    {
     "name": "stderr",
     "output_type": "stream",
     "text": [
      "training loop:   2% |####                                                                                                                                                                                                                        | ETA:  1:51:29\r"
     ]
    },
    {
     "name": "stdout",
     "output_type": "stream",
     "text": [
      "Episode 100\tAverage Score: -13.58\n"
     ]
    },
    {
     "name": "stderr",
     "output_type": "stream",
     "text": [
      "training loop:   4% |########                                                                                                                                                                                                                    | ETA:  1:47:45\r"
     ]
    },
    {
     "name": "stdout",
     "output_type": "stream",
     "text": [
      "Episode 200\tAverage Score: -12.91\n"
     ]
    },
    {
     "name": "stderr",
     "output_type": "stream",
     "text": [
      "training loop:   6% |#############                                                                                                                                                                                                               | ETA:  1:44:32\r"
     ]
    },
    {
     "name": "stdout",
     "output_type": "stream",
     "text": [
      "Episode 300\tAverage Score: -12.69\n"
     ]
    },
    {
     "name": "stderr",
     "output_type": "stream",
     "text": [
      "training loop:   8% |#################                                                                                                                                                                                                           | ETA:  1:41:47\r"
     ]
    },
    {
     "name": "stdout",
     "output_type": "stream",
     "text": [
      "Episode 400\tAverage Score: -11.72\n"
     ]
    },
    {
     "name": "stderr",
     "output_type": "stream",
     "text": [
      "training loop:  10% |######################                                                                                                                                                                                                      | ETA:  1:40:31\r"
     ]
    },
    {
     "name": "stdout",
     "output_type": "stream",
     "text": [
      "Episode 500\tAverage Score: -11.01\n"
     ]
    },
    {
     "name": "stderr",
     "output_type": "stream",
     "text": [
      "training loop:  12% |##########################                                                                                                                                                                                                  | ETA:  1:38:25\r"
     ]
    },
    {
     "name": "stdout",
     "output_type": "stream",
     "text": [
      "Episode 600\tAverage Score: -10.03\n"
     ]
    },
    {
     "name": "stderr",
     "output_type": "stream",
     "text": [
      "training loop:  14% |##############################                                                                                                                                                                                              | ETA:  1:36:01\r"
     ]
    },
    {
     "name": "stdout",
     "output_type": "stream",
     "text": [
      "Episode 700\tAverage Score: -8.66\n"
     ]
    },
    {
     "name": "stderr",
     "output_type": "stream",
     "text": [
      "training loop:  16% |###################################                                                                                                                                                                                         | ETA:  1:33:35\r"
     ]
    },
    {
     "name": "stdout",
     "output_type": "stream",
     "text": [
      "Episode 800\tAverage Score: -7.81\n"
     ]
    },
    {
     "name": "stderr",
     "output_type": "stream",
     "text": [
      "training loop:  18% |#######################################                                                                                                                                                                                     | ETA:  1:31:10\r"
     ]
    },
    {
     "name": "stdout",
     "output_type": "stream",
     "text": [
      "Episode 900\tAverage Score: -7.10\n"
     ]
    },
    {
     "name": "stderr",
     "output_type": "stream",
     "text": [
      "training loop:  20% |############################################                                                                                                                                                                                | ETA:  1:28:49\r"
     ]
    },
    {
     "name": "stdout",
     "output_type": "stream",
     "text": [
      "Episode 1000\tAverage Score: -6.42\n"
     ]
    },
    {
     "name": "stderr",
     "output_type": "stream",
     "text": [
      "training loop:  22% |################################################                                                                                                                                                                            | ETA:  1:26:29\r"
     ]
    },
    {
     "name": "stdout",
     "output_type": "stream",
     "text": [
      "Episode 1100\tAverage Score: -5.80\n"
     ]
    },
    {
     "name": "stderr",
     "output_type": "stream",
     "text": [
      "training loop:  24% |####################################################                                                                                                                                                                        | ETA:  1:24:13\r"
     ]
    },
    {
     "name": "stdout",
     "output_type": "stream",
     "text": [
      "Episode 1200\tAverage Score: -5.30\n"
     ]
    },
    {
     "name": "stderr",
     "output_type": "stream",
     "text": [
      "training loop:  26% |#########################################################                                                                                                                                                                   | ETA:  1:21:55\r"
     ]
    },
    {
     "name": "stdout",
     "output_type": "stream",
     "text": [
      "Episode 1300\tAverage Score: -4.94\n"
     ]
    },
    {
     "name": "stderr",
     "output_type": "stream",
     "text": [
      "training loop:  28% |#############################################################                                                                                                                                                               | ETA:  1:19:39\r"
     ]
    },
    {
     "name": "stdout",
     "output_type": "stream",
     "text": [
      "Episode 1400\tAverage Score: -5.01\n"
     ]
    },
    {
     "name": "stderr",
     "output_type": "stream",
     "text": [
      "training loop:  30% |##################################################################                                                                                                                                                          | ETA:  1:17:23\r"
     ]
    },
    {
     "name": "stdout",
     "output_type": "stream",
     "text": [
      "Episode 1500\tAverage Score: -4.58\n"
     ]
    },
    {
     "name": "stderr",
     "output_type": "stream",
     "text": [
      "training loop:  32% |######################################################################                                                                                                                                                      | ETA:  1:15:08\r"
     ]
    },
    {
     "name": "stdout",
     "output_type": "stream",
     "text": [
      "Episode 1600\tAverage Score: -4.42\n"
     ]
    },
    {
     "name": "stderr",
     "output_type": "stream",
     "text": [
      "training loop:  34% |##########################################################################                                                                                                                                                  | ETA:  1:12:56\r"
     ]
    },
    {
     "name": "stdout",
     "output_type": "stream",
     "text": [
      "Episode 1700\tAverage Score: -4.06\n"
     ]
    },
    {
     "name": "stderr",
     "output_type": "stream",
     "text": [
      "training loop:  36% |###############################################################################                                                                                                                                             | ETA:  1:10:45\r"
     ]
    },
    {
     "name": "stdout",
     "output_type": "stream",
     "text": [
      "Episode 1800\tAverage Score: -4.32\n"
     ]
    },
    {
     "name": "stderr",
     "output_type": "stream",
     "text": [
      "training loop:  38% |###################################################################################                                                                                                                                         | ETA:  1:08:35\r"
     ]
    },
    {
     "name": "stdout",
     "output_type": "stream",
     "text": [
      "Episode 1900\tAverage Score: -3.85\n"
     ]
    },
    {
     "name": "stderr",
     "output_type": "stream",
     "text": [
      "training loop:  40% |########################################################################################                                                                                                                                    | ETA:  1:06:23\r"
     ]
    },
    {
     "name": "stdout",
     "output_type": "stream",
     "text": [
      "Episode 2000\tAverage Score: -3.80\n"
     ]
    },
    {
     "name": "stderr",
     "output_type": "stream",
     "text": [
      "training loop:  42% |############################################################################################                                                                                                                                | ETA:  1:04:12\r"
     ]
    },
    {
     "name": "stdout",
     "output_type": "stream",
     "text": [
      "Episode 2100\tAverage Score: -3.81\n"
     ]
    },
    {
     "name": "stderr",
     "output_type": "stream",
     "text": [
      "training loop:  44% |################################################################################################                                                                                                                            | ETA:  1:02:00\r"
     ]
    },
    {
     "name": "stdout",
     "output_type": "stream",
     "text": [
      "Episode 2200\tAverage Score: -3.79\n"
     ]
    },
    {
     "name": "stderr",
     "output_type": "stream",
     "text": [
      "training loop:  46% |#####################################################################################################                                                                                                                       | ETA:  0:59:49\r"
     ]
    },
    {
     "name": "stdout",
     "output_type": "stream",
     "text": [
      "Episode 2300\tAverage Score: -3.72\n"
     ]
    },
    {
     "name": "stderr",
     "output_type": "stream",
     "text": [
      "training loop:  48% |#########################################################################################################                                                                                                                   | ETA:  0:57:36\r"
     ]
    },
    {
     "name": "stdout",
     "output_type": "stream",
     "text": [
      "Episode 2400\tAverage Score: -3.53\n"
     ]
    },
    {
     "name": "stderr",
     "output_type": "stream",
     "text": [
      "training loop:  50% |##############################################################################################################                                                                                                              | ETA:  0:55:24\r"
     ]
    },
    {
     "name": "stdout",
     "output_type": "stream",
     "text": [
      "Episode 2500\tAverage Score: -3.45\n"
     ]
    },
    {
     "name": "stderr",
     "output_type": "stream",
     "text": [
      "training loop:  52% |##################################################################################################################                                                                                                          | ETA:  0:53:12\r"
     ]
    },
    {
     "name": "stdout",
     "output_type": "stream",
     "text": [
      "Episode 2600\tAverage Score: -3.50\n"
     ]
    },
    {
     "name": "stderr",
     "output_type": "stream",
     "text": [
      "training loop:  54% |######################################################################################################################                                                                                                      | ETA:  0:51:00\r"
     ]
    },
    {
     "name": "stdout",
     "output_type": "stream",
     "text": [
      "Episode 2700\tAverage Score: -3.57\n"
     ]
    },
    {
     "name": "stderr",
     "output_type": "stream",
     "text": [
      "training loop:  56% |###########################################################################################################################                                                                                                 | ETA:  0:48:47\r"
     ]
    },
    {
     "name": "stdout",
     "output_type": "stream",
     "text": [
      "Episode 2800\tAverage Score: -3.35\n"
     ]
    },
    {
     "name": "stderr",
     "output_type": "stream",
     "text": [
      "training loop:  58% |###############################################################################################################################                                                                                             | ETA:  0:46:35\r"
     ]
    },
    {
     "name": "stdout",
     "output_type": "stream",
     "text": [
      "Episode 2900\tAverage Score: -3.40\n"
     ]
    },
    {
     "name": "stderr",
     "output_type": "stream",
     "text": [
      "training loop:  60% |####################################################################################################################################                                                                                        | ETA:  0:44:22\r"
     ]
    },
    {
     "name": "stdout",
     "output_type": "stream",
     "text": [
      "Episode 3000\tAverage Score: -3.25\n"
     ]
    },
    {
     "name": "stderr",
     "output_type": "stream",
     "text": [
      "training loop:  62% |########################################################################################################################################                                                                                    | ETA:  0:42:09\r"
     ]
    },
    {
     "name": "stdout",
     "output_type": "stream",
     "text": [
      "Episode 3100\tAverage Score: -3.33\n"
     ]
    },
    {
     "name": "stderr",
     "output_type": "stream",
     "text": [
      "training loop:  64% |############################################################################################################################################                                                                                | ETA:  0:39:56\r"
     ]
    },
    {
     "name": "stdout",
     "output_type": "stream",
     "text": [
      "Episode 3200\tAverage Score: -3.50\n"
     ]
    },
    {
     "name": "stderr",
     "output_type": "stream",
     "text": [
      "training loop:  66% |#################################################################################################################################################                                                                           | ETA:  0:37:43\r"
     ]
    },
    {
     "name": "stdout",
     "output_type": "stream",
     "text": [
      "Episode 3300\tAverage Score: -3.34\n"
     ]
    },
    {
     "name": "stderr",
     "output_type": "stream",
     "text": [
      "training loop:  68% |#####################################################################################################################################################                                                                       | ETA:  0:35:30\r"
     ]
    },
    {
     "name": "stdout",
     "output_type": "stream",
     "text": [
      "Episode 3400\tAverage Score: -3.24\n"
     ]
    },
    {
     "name": "stderr",
     "output_type": "stream",
     "text": [
      "training loop:  70% |##########################################################################################################################################################                                                                  | ETA:  0:33:17\r"
     ]
    },
    {
     "name": "stdout",
     "output_type": "stream",
     "text": [
      "Episode 3500\tAverage Score: -3.29\n"
     ]
    },
    {
     "name": "stderr",
     "output_type": "stream",
     "text": [
      "training loop:  72% |##############################################################################################################################################################                                                              | ETA:  0:31:04\r"
     ]
    },
    {
     "name": "stdout",
     "output_type": "stream",
     "text": [
      "Episode 3600\tAverage Score: -3.30\n"
     ]
    },
    {
     "name": "stderr",
     "output_type": "stream",
     "text": [
      "training loop:  74% |##################################################################################################################################################################                                                          | ETA:  0:28:51\r"
     ]
    },
    {
     "name": "stdout",
     "output_type": "stream",
     "text": [
      "Episode 3700\tAverage Score: -3.50\n"
     ]
    },
    {
     "name": "stderr",
     "output_type": "stream",
     "text": [
      "training loop:  76% |#######################################################################################################################################################################                                                     | ETA:  0:26:38\r"
     ]
    },
    {
     "name": "stdout",
     "output_type": "stream",
     "text": [
      "Episode 3800\tAverage Score: -3.34\n"
     ]
    },
    {
     "name": "stderr",
     "output_type": "stream",
     "text": [
      "training loop:  78% |###########################################################################################################################################################################                                                 | ETA:  0:24:25\r"
     ]
    },
    {
     "name": "stdout",
     "output_type": "stream",
     "text": [
      "Episode 3900\tAverage Score: -3.30\n"
     ]
    },
    {
     "name": "stderr",
     "output_type": "stream",
     "text": [
      "training loop:  80% |################################################################################################################################################################################                                            | ETA:  0:22:11\r"
     ]
    },
    {
     "name": "stdout",
     "output_type": "stream",
     "text": [
      "Episode 4000\tAverage Score: -3.47\n"
     ]
    },
    {
     "name": "stderr",
     "output_type": "stream",
     "text": [
      "training loop:  82% |####################################################################################################################################################################################                                        | ETA:  0:19:58\r"
     ]
    },
    {
     "name": "stdout",
     "output_type": "stream",
     "text": [
      "Episode 4100\tAverage Score: -3.37\n"
     ]
    },
    {
     "name": "stderr",
     "output_type": "stream",
     "text": [
      "training loop:  84% |########################################################################################################################################################################################                                    | ETA:  0:17:45\r"
     ]
    },
    {
     "name": "stdout",
     "output_type": "stream",
     "text": [
      "Episode 4200\tAverage Score: -3.29\n"
     ]
    },
    {
     "name": "stderr",
     "output_type": "stream",
     "text": [
      "training loop:  86% |#############################################################################################################################################################################################                               | ETA:  0:15:32\r"
     ]
    },
    {
     "name": "stdout",
     "output_type": "stream",
     "text": [
      "Episode 4300\tAverage Score: -3.33\n"
     ]
    },
    {
     "name": "stderr",
     "output_type": "stream",
     "text": [
      "training loop:  88% |#################################################################################################################################################################################################                           | ETA:  0:13:19\r"
     ]
    },
    {
     "name": "stdout",
     "output_type": "stream",
     "text": [
      "Episode 4400\tAverage Score: -3.26\n"
     ]
    },
    {
     "name": "stderr",
     "output_type": "stream",
     "text": [
      "training loop:  90% |######################################################################################################################################################################################################                      | ETA:  0:11:05\r"
     ]
    },
    {
     "name": "stdout",
     "output_type": "stream",
     "text": [
      "Episode 4500\tAverage Score: -3.08\n"
     ]
    },
    {
     "name": "stderr",
     "output_type": "stream",
     "text": [
      "training loop:  92% |##########################################################################################################################################################################################################                  | ETA:  0:08:52\r"
     ]
    },
    {
     "name": "stdout",
     "output_type": "stream",
     "text": [
      "Episode 4600\tAverage Score: -3.23\n"
     ]
    },
    {
     "name": "stderr",
     "output_type": "stream",
     "text": [
      "training loop:  94% |##############################################################################################################################################################################################################              | ETA:  0:06:39\r"
     ]
    },
    {
     "name": "stdout",
     "output_type": "stream",
     "text": [
      "Episode 4700\tAverage Score: -3.08\n"
     ]
    },
    {
     "name": "stderr",
     "output_type": "stream",
     "text": [
      "training loop:  96% |###################################################################################################################################################################################################################         | ETA:  0:04:26\r"
     ]
    },
    {
     "name": "stdout",
     "output_type": "stream",
     "text": [
      "Episode 4800\tAverage Score: -3.19\n"
     ]
    },
    {
     "name": "stderr",
     "output_type": "stream",
     "text": [
      "training loop:  98% |#######################################################################################################################################################################################################################     | ETA:  0:02:13\r"
     ]
    },
    {
     "name": "stdout",
     "output_type": "stream",
     "text": [
      "Episode 4900\tAverage Score: -3.10\n"
     ]
    },
    {
     "name": "stderr",
     "output_type": "stream",
     "text": [
      "training loop: 100% |############################################################################################################################################################################################################################| Time: 1:51:02\r"
     ]
    },
    {
     "name": "stdout",
     "output_type": "stream",
     "text": [
      "Episode 5000\tAverage Score: -3.33\n"
     ]
    },
    {
     "name": "stderr",
     "output_type": "stream",
     "text": [
      "\n"
     ]
    }
   ],
   "source": [
    "beta = 0.01\n",
    "beta_decay = 0.995\n",
    "\n",
    "scores = trainer.train(\n",
    "    n_episodes,\n",
    "    action1=RIGHT,\n",
    "    action2=LEFT,\n",
    "    beta=beta,\n",
    "    beta_decay=beta_decay,\n",
    "    future_rewards_only=True,\n",
    "    normalize_rewards=True,\n",
    ")"
   ]
  },
  {
   "cell_type": "code",
   "execution_count": 18,
   "id": "e1cbb1fd-8f0d-47ef-bc27-72918fd1c99b",
   "metadata": {},
   "outputs": [
    {
     "name": "stdout",
     "output_type": "stream",
     "text": [
      "Evaluation: Average reward over 5 episodes: -5.60\n"
     ]
    },
    {
     "data": {
      "text/plain": [
       "-5.6"
      ]
     },
     "execution_count": 18,
     "metadata": {},
     "output_type": "execute_result"
    }
   ],
   "source": [
    "trainer.evaluate(5, action1=RIGHT, action2=LEFT)"
   ]
  },
  {
   "cell_type": "code",
   "execution_count": 19,
   "id": "5fb79a27-9ea4-42db-b16c-5612392663f3",
   "metadata": {},
   "outputs": [
    {
     "data": {
      "image/png": "[encoded data removed]",
      "text/plain": [
       "<Figure size 640x480 with 1 Axes>"
      ]
     },
     "metadata": {},
     "output_type": "display_data"
    }
   ],
   "source": [
    "# plot the scores\n",
    "fig = plt.figure()\n",
    "ax = fig.add_subplot(111)\n",
    "plt.plot(np.arange(len(scores)), scores)\n",
    "plt.ylabel(\"Score\")\n",
    "plt.xlabel(\"Episode #\")\n",
    "plt.show()"
   ]
  },
  {
   "cell_type": "markdown",
   "id": "ed99d94e-8f54-49b4-a997-cf38460ddf3f",
   "metadata": {},
   "source": [
    "## Save the agent"
   ]
  },
  {
   "cell_type": "code",
   "execution_count": 20,
   "id": "bfae2441-da0d-4c1b-b055-f045441abf56",
   "metadata": {},
   "outputs": [],
   "source": [
    "import torch\n",
    "\n",
    "# Define the path where you want to save the model\n",
    "model_path = \"./checkpoints/reinforce_policy_cartpole.pth\"\n",
    "\n",
    "# Save the model's state dictionary\n",
    "torch.save(model.state_dict(), model_path)"
   ]
  },
  {
   "cell_type": "markdown",
   "id": "c704a5f2-31d1-453b-b09e-a81d7803c78e",
   "metadata": {},
   "source": [
    "## Watch a Smart Agent"
   ]
  },
  {
   "cell_type": "code",
   "execution_count": 21,
   "id": "fcec83ec-ceff-49a9-8907-f77029a91863",
   "metadata": {},
   "outputs": [
    {
     "data": {
      "image/png": "[encoded data removed]",
      "text/plain": [
       "<Figure size 640x480 with 1 Axes>"
      ]
     },
     "metadata": {},
     "output_type": "display_data"
    }
   ],
   "source": [
    "env.watch(\n",
    "    policy,\n",
    "    display,\n",
    "    steps=1000,\n",
    "    action1=RIGHT,\n",
    "    action2=LEFT,\n",
    "    preprocess_fn=preprocess_batch,\n",
    "    device=device,\n",
    ")"
   ]
  },
  {
   "cell_type": "markdown",
   "id": "57729929-18e8-4ff7-bcb0-94bc8b8ab4d0",
   "metadata": {},
   "source": [
    " "
   ]
  }
 ],
 "metadata": {
  "kernelspec": {
   "display_name": "Python 3 (ipykernel)",
   "language": "python",
   "name": "python3"
  },
  "language_info": {
   "codemirror_mode": {
    "name": "ipython",
    "version": 3
   },
   "file_extension": ".py",
   "mimetype": "text/x-python",
   "name": "python",
   "nbconvert_exporter": "python",
   "pygments_lexer": "ipython3",
   "version": "3.10.11"
  }
 },
 "nbformat": 4,
 "nbformat_minor": 5
}
