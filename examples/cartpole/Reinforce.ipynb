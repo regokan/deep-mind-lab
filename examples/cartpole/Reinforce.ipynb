{
 "cells": [
  {
   "cell_type": "markdown",
   "id": "af606f14-0e72-440d-bb5f-a713e97f10ed",
   "metadata": {},
   "source": [
    "**Module Path**"
   ]
  },
  {
   "cell_type": "code",
   "execution_count": 1,
   "id": "43424233-dc69-4cb4-8db8-c7a3f318999e",
   "metadata": {},
   "outputs": [],
   "source": [
    "import os\n",
    "\n",
    "os.chdir(\"./../../\")"
   ]
  },
  {
   "cell_type": "markdown",
   "id": "df34171f-24a8-421a-8409-636ca50c5022",
   "metadata": {},
   "source": [
    "**Device**"
   ]
  },
  {
   "cell_type": "code",
   "execution_count": 2,
   "id": "b33a857c-c307-4465-ae90-029c340508cf",
   "metadata": {},
   "outputs": [],
   "source": [
    "from utils import get_device\n",
    "\n",
    "device = get_device()"
   ]
  },
  {
   "cell_type": "markdown",
   "id": "371670dc-e0f8-4f3b-a752-670dd614efec",
   "metadata": {},
   "source": [
    "# Policy Gradient Method\n",
    "\n",
    "\n",
    "# Derivation\n",
    "\n",
    "If To derive the equation that we use to approximate the gradient, please read the text below.\n",
    "\n",
    "$$\n",
    "\\nabla_{\\theta} J(\\theta) = \\sum_{i=1}^{N} \\nabla_{\\theta} \\log \\pi_{\\theta} (a^{(i)} | s^{(i)}) R^{(i)}\n",
    "$$\n",
    "\n",
    "---\n",
    "\n",
    "## Likelihood Ratio Policy Gradient\n",
    "\n",
    "We'll begin by exploring how to calculate the gradient $ \\nabla_{\\theta} J\\theta $. The calculation proceeds as follows:\n",
    "\n",
    "$$\n",
    "\\nabla_{\\theta} J(\\theta) = \\nabla_{\\theta} \\sum_{i} P_{\\theta} (i) R(i) \\tag{1}\n",
    "$$\n",
    "\n",
    "$$\n",
    "= \\sum_{i} \\nabla_{\\theta} P_{\\theta} (i) R(i) \\tag{2}\n",
    "$$\n",
    "\n",
    "$$\n",
    "= \\sum_{i} P_{\\theta} (i) \\frac{\\nabla_{\\theta} P_{\\theta} (i)}{P_{\\theta} (i)} R(i) \\tag{3}\n",
    "$$\n",
    "\n",
    "$$\n",
    "= \\sum_{i} P_{\\theta} (i) \\nabla_{\\theta} \\log P_{\\theta} (i) R(i) \\tag{4}\n",
    "$$\n",
    "\n",
    "$$\n",
    "= \\mathbb{E}_{P_{\\theta} (i)} \\left[ \\nabla_{\\theta} \\log P_{\\theta} (i) R(i) \\right] \\tag{5}\n",
    "$$\n",
    "\n",
    "First, we note line $1$ follows directly from $ J(\\theta) = \\sum_{i} P_{\\theta} (i) R(i) $, where we only take the gradient of both sides.\n",
    "\n",
    "Then, we can get line $2$ by just noticing that we can rewrite the gradient of the sum as the sum of the gradients.\n",
    "\n",
    "In line $3$, we only multiply every term in the sum by $ P_{\\theta} (i) $, which is perfectly allowed because this fraction is equal to one!\n",
    "\n",
    "Next, line $4$ is just a simple rearrangement of the terms from the previous line. That is,\n",
    "\n",
    "$$\n",
    "P_{\\theta} (i) \\frac{\\nabla_{\\theta} P_{\\theta} (i)}{P_{\\theta} (i)} = P_{\\theta} (i) \\nabla_{\\theta} \\log P_{\\theta} (i)\n",
    "$$\n",
    "\n",
    "Finally, line $5$ follows from the chain rule, and the fact that the gradient of the log of a function is always equal to the gradient of the function divided by the function (in case it helps to see this with simpler notation, recall that $ f(x) = \\log g(x)$ implies $ \\nabla_{x} f(x) = \\frac{\\nabla_{x} g(x)}{g(x)} $). Thus,\n",
    "\n",
    "$$\n",
    "\\nabla_{\\theta} \\log P_{\\theta} (i) = \\frac{\\nabla_{\\theta} P_{\\theta} (i)}{P_{\\theta} (i)}\n",
    "$$\n",
    "\n",
    "The final “trick” that slides in line $5$, i.e. \\$ \\nabla_{\\theta} \\log P_{\\theta} (i) = \\frac{\\nabla_{\\theta} P_{\\theta} (i)}{P_{\\theta} (i)} \\$, is referred to as the likelihood ratio trick or REINFORCE trick.\n",
    "\n",
    "Likewise, it is common to refer to the gradient as the likelihood ratio policy gradient:\n",
    "\n",
    "$$\n",
    "\\nabla_{\\theta} J(\\theta) = \\sum_{i} \\nabla_{\\theta} \\log P_{\\theta} (i) R(i)\n",
    "$$\n",
    "\n",
    "Once we've written the gradient as an expected value in this way, it becomes much easier to estimate.\n",
    "\n",
    "---\n",
    "\n",
    "## Sample-Based Estimate\n",
    "\n",
    "We can approximate the likelihood ratio policy gradient with a sample-based average, as shown below:\n",
    "\n",
    "$$\n",
    "\\nabla_{\\theta} J(\\theta) \\approx \\frac{1}{N} \\sum_{i=1}^{N} \\nabla_{\\theta} \\log \\pi_{\\theta} (a^{(i)} | s^{(i)}) R^{(i)}\n",
    "$$\n",
    "\n",
    "where each \\$ R^{(i)} \\$ is a sampled trajectory.\n",
    "\n",
    "---\n",
    "\n",
    "## Finishing the Calculation\n",
    "\n",
    "Before calculating the expression above, we will need to further simplify \\$ \\nabla_{\\theta} \\log P_{\\theta} (i) \\$. The derivation proceeds as follows:\n",
    "\n",
    "$$\n",
    "\\nabla_{\\theta} \\log P_{\\theta} (i) = \\nabla_{\\theta} \\log \\left[ \\prod_{t=0}^{T} \\pi_{\\theta} (a_{t}^{(i)} | s_{t}^{(i)}) \\right] \\tag{1}\n",
    "$$\n",
    "\n",
    "$$\n",
    "= \\sum_{t=0}^{T} \\nabla_{\\theta} \\log \\pi_{\\theta} (a_{t}^{(i)} | s_{t}^{(i)}) \\tag{2}\n",
    "$$\n",
    "\n",
    "$$\n",
    "= \\sum_{t=0}^{T} \\nabla_{\\theta} \\log \\pi_{\\theta} (a_{t}^{(i)} | s_{t}^{(i)}) + \\sum_{t=0}^{T} \\nabla_{\\theta} \\log P (s_{t+1}^{(i)} | s_{t}^{(i)}, a_{t}^{(i)}) \\tag{3}\n",
    "$$\n",
    "\n",
    "$$\n",
    "= \\sum_{t=0}^{T} \\nabla_{\\theta} \\log \\pi_{\\theta} (a_{t}^{(i)} | s_{t}^{(i)}) \\tag{4}\n",
    "$$\n",
    "\n",
    "$$\n",
    "= \\sum_{t=0}^{T} \\nabla_{\\theta} \\log \\pi_{\\theta} (a_{t}^{(i)} | s_{t}^{(i)}) \\tag{5}\n",
    "$$\n",
    "\n",
    "First, line $1$ shows how to calculate the probability of an arbitrary trajectory $\\tau^{(i)}$. Namely, $P_{\\theta} (i) = \\prod_{t=0}^{T} \\pi_{\\theta} a_{t}^{(i)} | s_{t}^{(i)} P s_{t+1}^{(i)} | s_{t}^{(i)}, a_{t}^{(i)}$, where we have to take into account the action-selection probabilities from the policy and the state transition dynamics of the MDP.\n",
    "\n",
    "Then, line $2$ follows from the fact that the log of a product is equal to the sum of the logs.\n",
    "\n",
    "Then, line $3$ follows because the gradient of the sum can be written as the sum of gradients.\n",
    "\n",
    "Next, line $4$ holds, because $\\sum_{t=0}^{T} \\nabla_{\\theta} \\log P s_{t+1}^{(i)} | s_{t}^{(i)}, a_{t}^{(i)}$ has no dependence on $\\theta $, so $\\nabla_{\\theta} \\sum_{t=0}^{T} \\log P s_{t+1}^{(i)} | s_{t}^{(i)}, a_{t}^{(i)} = 0$.\n",
    "\n",
    "Finally, line $5$ holds, because we can rewrite the gradient of the sum as the sum of gradients.\n",
    "\n",
    "---\n",
    "\n",
    "## That's it!\n",
    "\n",
    "Plugging in the calculation above yields the equation for estimating the gradient:\n",
    "\n",
    "$$\n",
    "\\nabla_{\\theta} J(\\theta) \\approx \\frac{1}{N} \\sum_{i=1}^{N} \\sum_{t=0}^{T} \\nabla_{\\theta} \\log \\pi_{\\theta} (a_{t}^{(i)} | s_{t}^{(i)}) R^{(i)}\n",
    "$$\n"
   ]
  },
  {
   "cell_type": "markdown",
   "id": "a88573cf-c213-4f70-93cb-5e2784a0c927",
   "metadata": {},
   "source": [
    "---\n",
    "\n",
    "## Explore CartPole\n",
    "\n",
    "We begin by importing the necessary packages."
   ]
  },
  {
   "cell_type": "code",
   "execution_count": 3,
   "id": "908040d3-5a06-4d91-b77a-27476b84fe86",
   "metadata": {},
   "outputs": [
    {
     "data": {
      "text/plain": [
       "<contextlib.ExitStack at 0x1136da560>"
      ]
     },
     "execution_count": 3,
     "metadata": {},
     "output_type": "execute_result"
    }
   ],
   "source": [
    "import numpy as np\n",
    "from pyvirtualdisplay import Display\n",
    "\n",
    "display = Display(visible=0, size=(1400, 900))\n",
    "display.start()\n",
    "\n",
    "import matplotlib.pyplot as plt\n",
    "\n",
    "# Set plotting options\n",
    "%matplotlib inline\n",
    "plt.style.use(\"ggplot\")\n",
    "np.set_printoptions(precision=3, linewidth=120)\n",
    "\n",
    "is_ipython = \"inline\" in plt.get_backend()\n",
    "if is_ipython:\n",
    "    from IPython import display\n",
    "\n",
    "plt.ion()"
   ]
  },
  {
   "cell_type": "code",
   "execution_count": 4,
   "id": "003ada81-9e78-402f-8fa6-b4785861f74f",
   "metadata": {},
   "outputs": [],
   "source": [
    "from env import Gym\n",
    "from policy import RandomPolicy"
   ]
  },
  {
   "cell_type": "markdown",
   "id": "18842fcb-d8f6-419b-8da7-8673cef4ae35",
   "metadata": {},
   "source": [
    "Use the code cell below to create an instance of the [CartPole](https://github.com/openai/gym/blob/master/gym/envs/classic_control/cartpole.py) environment."
   ]
  },
  {
   "cell_type": "code",
   "execution_count": 5,
   "id": "e2eea387-b37d-47f4-8a01-344f156ffe8f",
   "metadata": {},
   "outputs": [],
   "source": [
    "import torch\n",
    "\n",
    "seed = 0\n",
    "\n",
    "np.random.seed(seed)\n",
    "torch.manual_seed(seed)\n",
    "env = Gym(\"cartpole\")"
   ]
  },
  {
   "cell_type": "markdown",
   "id": "7b851ef9-247a-4356-aa79-26c62b59dc1e",
   "metadata": {},
   "source": [
    "Let's watch a random agent dealing with the environment"
   ]
  },
  {
   "cell_type": "code",
   "execution_count": 6,
   "id": "626696f9-5521-4095-88ef-a428916eafde",
   "metadata": {},
   "outputs": [
    {
     "name": "stdout",
     "output_type": "stream",
     "text": [
      "Score:  15.0\n"
     ]
    },
    {
     "data": {
      "image/png": "[encoded data removed]",
      "text/plain": [
       "<Figure size 640x480 with 1 Axes>"
      ]
     },
     "metadata": {},
     "output_type": "display_data"
    }
   ],
   "source": [
    "env.watch(RandomPolicy(env.get_action_space()), display)"
   ]
  },
  {
   "cell_type": "code",
   "execution_count": 7,
   "id": "5fd394ce-a814-44d9-96a3-34dc3bf523bc",
   "metadata": {},
   "outputs": [
    {
     "name": "stdout",
     "output_type": "stream",
     "text": [
      "Box([-4.800e+00 -3.403e+38 -4.189e-01 -3.403e+38], [4.800e+00 3.403e+38 4.189e-01 3.403e+38], (4,), float32)\n",
      "Discrete(2)\n"
     ]
    }
   ],
   "source": [
    "print(env.get_observation_space())\n",
    "print(env.get_action_space())"
   ]
  },
  {
   "cell_type": "code",
   "execution_count": 8,
   "id": "f28190a5-46ed-44d7-bdec-f9b8e536f2dc",
   "metadata": {},
   "outputs": [],
   "source": [
    "from policy import ReinforcePolicy\n",
    "\n",
    "action_size = env.get_action_space().n\n",
    "state_size = len(env.get_observation_space().sample())\n",
    "\n",
    "policy = ReinforcePolicy(s_size=state_size, a_size=action_size, device=device).to(\n",
    "    device\n",
    ")"
   ]
  },
  {
   "cell_type": "markdown",
   "id": "dcb1074a-a4ff-4cc5-88fc-4f1536e56c5e",
   "metadata": {},
   "source": [
    "## Train"
   ]
  },
  {
   "cell_type": "code",
   "execution_count": 9,
   "id": "556178c2-ed56-4402-b614-674a81b24ca5",
   "metadata": {},
   "outputs": [],
   "source": [
    "import torch.optim as optim\n",
    "from train import ReinforceTrainer\n",
    "\n",
    "max_steps_per_episode = 1000\n",
    "gamma = 0.99\n",
    "print_every = 100\n",
    "target_score = 195.0\n",
    "n_episodes = 10_000\n",
    "\n",
    "optimizer = optim.Adam(policy.parameters(), lr=1e-2)\n",
    "\n",
    "trainer = ReinforceTrainer(\n",
    "    policy,\n",
    "    env,\n",
    "    optimizer,\n",
    "    max_steps_per_episode=max_steps_per_episode,\n",
    "    gamma=gamma,\n",
    "    target_score=target_score,\n",
    "    print_every=print_every,\n",
    ")"
   ]
  },
  {
   "cell_type": "code",
   "execution_count": 10,
   "id": "82e46f64-916b-4675-8bce-7f7da407f771",
   "metadata": {},
   "outputs": [
    {
     "name": "stdout",
     "output_type": "stream",
     "text": [
      "Episode 100\tAverage Score: 39.06\n",
      "Episode 200\tAverage Score: 82.09\n",
      "Episode 300\tAverage Score: 118.14\n",
      "Episode 400\tAverage Score: 126.82\n",
      "Environment solved in 446 episodes!\tAverage Score: 199.04\n"
     ]
    }
   ],
   "source": [
    "scores = trainer.train(n_episodes)"
   ]
  },
  {
   "cell_type": "code",
   "execution_count": 11,
   "id": "e1cbb1fd-8f0d-47ef-bc27-72918fd1c99b",
   "metadata": {},
   "outputs": [
    {
     "name": "stdout",
     "output_type": "stream",
     "text": [
      "Evaluation: Average reward over 50 episodes: 622.82\n"
     ]
    },
    {
     "data": {
      "text/plain": [
       "622.82"
      ]
     },
     "execution_count": 11,
     "metadata": {},
     "output_type": "execute_result"
    }
   ],
   "source": [
    "trainer.evaluate(50)"
   ]
  },
  {
   "cell_type": "code",
   "execution_count": 12,
   "id": "5fb79a27-9ea4-42db-b16c-5612392663f3",
   "metadata": {},
   "outputs": [
    {
     "data": {
      "image/png": "[encoded data removed]",
      "text/plain": [
       "<Figure size 640x480 with 1 Axes>"
      ]
     },
     "metadata": {},
     "output_type": "display_data"
    }
   ],
   "source": [
    "# plot the scores\n",
    "fig = plt.figure()\n",
    "ax = fig.add_subplot(111)\n",
    "plt.plot(np.arange(len(scores)), scores)\n",
    "plt.ylabel(\"Score\")\n",
    "plt.xlabel(\"Episode #\")\n",
    "plt.show()"
   ]
  },
  {
   "cell_type": "markdown",
   "id": "6516b372-1397-4de9-80c5-9e7f4f6ee1d5",
   "metadata": {},
   "source": [
    "## Watch a Smart Agent!"
   ]
  },
  {
   "cell_type": "code",
   "execution_count": 13,
   "id": "ff7ae59b-4b75-48af-b4da-720297ff5d04",
   "metadata": {},
   "outputs": [
    {
     "name": "stdout",
     "output_type": "stream",
     "text": [
      "Score:  802.0\n"
     ]
    },
    {
     "data": {
      "image/png": "[encoded data removed]",
      "text/plain": [
       "<Figure size 640x480 with 1 Axes>"
      ]
     },
     "metadata": {},
     "output_type": "display_data"
    }
   ],
   "source": [
    "env.watch(policy, display)"
   ]
  },
  {
   "cell_type": "markdown",
   "id": "a153f604-88fd-44c6-95db-db93765b30c9",
   "metadata": {},
   "source": [
    "## Save the agent"
   ]
  },
  {
   "cell_type": "code",
   "execution_count": 14,
   "id": "bfae2441-da0d-4c1b-b055-f045441abf56",
   "metadata": {},
   "outputs": [],
   "source": [
    "import torch\n",
    "\n",
    "# Define the path where you want to save the model\n",
    "model_path = \"./checkpoints/reinforce_policy_cartpole.pth\"\n",
    "\n",
    "# Save the model's state dictionary\n",
    "torch.save(policy.state_dict(), model_path)"
   ]
  },
  {
   "cell_type": "markdown",
   "id": "57729929-18e8-4ff7-bcb0-94bc8b8ab4d0",
   "metadata": {},
   "source": [
    " "
   ]
  }
 ],
 "metadata": {
  "kernelspec": {
   "display_name": "Python 3 (ipykernel)",
   "language": "python",
   "name": "python3"
  },
  "language_info": {
   "codemirror_mode": {
    "name": "ipython",
    "version": 3
   },
   "file_extension": ".py",
   "mimetype": "text/x-python",
   "name": "python",
   "nbconvert_exporter": "python",
   "pygments_lexer": "ipython3",
   "version": "3.10.11"
  }
 },
 "nbformat": 4,
 "nbformat_minor": 5
}
